{
 "cells": [
  {
   "cell_type": "code",
   "execution_count": 1,
   "metadata": {},
   "outputs": [
    {
     "name": "stderr",
     "output_type": "stream",
     "text": [
      "Building prefix dict from C:\\Users\\user\\斷詞與文字雲\\dictionary\\dict.txt.big.txt ...\n",
      "Loading model from cache C:\\Users\\user\\AppData\\Local\\Temp\\jieba.u26dde8eadd1d88361d80552aac827a44.cache\n",
      "Loading model cost 0.977 seconds.\n",
      "Prefix dict has been built succesfully.\n"
     ]
    },
    {
     "name": "stdout",
     "output_type": "stream",
     "text": [
      "停用詞:'|\"|,|;|，|。|來到|\n",
      "去除停用:居娜|歡迎光臨|國立台中教育大學|數位內容科技學系|就讀|學士學位\n",
      "預設模式:居娜|，|歡迎光臨|來到|國立台中教育大學|數位內容科技學系|就讀|學士學位|。\n",
      "全文模式:居娜|||歡迎|歡迎光臨|光臨|來到|國立|國立台中教育大學|台中|台中教育大學|教育|大學|數位|數位內容科技學系|內容|科技|學系|就讀|學士|學士學位|學位||\n",
      "搜尋引擎:居娜|，|歡迎|光臨|歡迎光臨|來到|國立|台中|教育|大學|國立台中教育大學|數位|內容|科技|學系|數位內容科技學系|就讀|學士|學位|學士學位|。\n"
     ]
    }
   ],
   "source": [
    "# encoding=utf-8\n",
    "import jieba\n",
    "\n",
    "jieba.set_dictionary('dictionary/dict.txt.big.txt')\n",
    "jieba.load_userdict('dictionary/user_dict.txt')\n",
    "\n",
    "with open('dictionary/stopword.txt', 'r', encoding='utf-8-sig') as file:\n",
    "    stops = file.read().split('\\n') #將停用儲存在stops串列中\n",
    "print(\"停用詞:\"+'|' .join(stops))\n",
    "\n",
    "sentence = \"居娜，歡迎光臨來到國立台中教育大學數位內容科技學系就讀學士學位。\"\n",
    "\n",
    "jieba.add_word('數位系')\n",
    "\n",
    "# 預設模式斷詞\n",
    "breakword = jieba.cut(sentence, cut_all=False)\n",
    "final_words = []   #儲存最後的詞\n",
    "#拆解句子為字詞\n",
    "for word in breakword:     # 拆解句子為字詞\n",
    "    if word not in stops:  #不是停用詞\n",
    "        final_words.append(word)\n",
    "print(\"去除停用:\" + '|' . join(final_words))\n",
    "\n",
    "breakword = jieba.cut(sentence, cut_all=False)\n",
    "print(\"預設模式:\" + '|' . join(breakword))\n",
    "\n",
    "#全文模式斷句\n",
    "breakword = jieba.cut(sentence, cut_all=True)\n",
    "print(\"全文模式:\" + '|' . join(breakword))\n",
    "\n",
    "#搜尋引擎模式斷句\n",
    "breakword = jieba.cut_for_search(sentence)\n",
    "print(\"搜尋引擎:\" + '|' . join(breakword))"
   ]
  }
 ],
 "metadata": {
  "kernelspec": {
   "display_name": "Python 3",
   "language": "python",
   "name": "python3"
  },
  "language_info": {
   "codemirror_mode": {
    "name": "ipython",
    "version": 3
   },
   "file_extension": ".py",
   "mimetype": "text/x-python",
   "name": "python",
   "nbconvert_exporter": "python",
   "pygments_lexer": "ipython3",
   "version": "3.6.5"
  }
 },
 "nbformat": 4,
 "nbformat_minor": 2
}
